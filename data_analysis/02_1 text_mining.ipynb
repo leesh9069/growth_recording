{
 "cells": [
  {
   "cell_type": "markdown",
   "id": "3d370e62",
   "metadata": {},
   "source": [
    "페이지의 URL 정보 추출하기"
   ]
  },
  {
   "cell_type": "code",
   "execution_count": 1,
   "id": "a72c38d8",
   "metadata": {},
   "outputs": [
    {
     "name": "stdout",
     "output_type": "stream",
     "text": [
      "https://namu.wiki/w/%EC%98%A4%EC%9D%B4\n",
      "https://namu.wiki/w/%EC%98%A4%EB%B9%84%EC%97%90%20%EC%97%90%EC%9E%90%EB%A6%AC%EC%95%84\n",
      "https://namu.wiki/w/%EC%B2%9C%EC%95%88%EB%AC%B8%206.4%20%ED%95%AD%EC%9F%81\n"
     ]
    }
   ],
   "source": [
    "from selenium import webdriver\n",
    "from bs4 import BeautifulSoup\n",
    "import re\n",
    "import time\n",
    "#윈도우용 크롬 웹드라이버 실행 경로\n",
    "executable_path = \"chromedriver.exe\"\n",
    "\n",
    "#크롤링 사이트 주소 정의\n",
    "source_url = \"https://namu.wiki/RecentChanges\"\n",
    "#크롬드라이버 사용\n",
    "driver = webdriver.Chrome(executable_path = executable_path)\n",
    "\n",
    "#드라이버가 브라우징 할 페이지 소스 입력\n",
    "driver.get(source_url)\n",
    "time.sleep(1)\n",
    "req = driver.page_source\n",
    "\n",
    "#사이트의 html 구조에 기반하여 데이터 파싱\n",
    "soup = BeautifulSoup(req, \"html.parser\")\n",
    "contents_table = soup.find(name=\"table\")\n",
    "table_body = contents_table.find(name=\"tbody\")\n",
    "table_rows = table_body.find_all(name=\"tr\")\n",
    "\n",
    "# a 태그의 href속성을 리스트로 추출하여 크롤링할 페이지 리스트 생성\n",
    "page_url_base = \"https://namu.wiki\"\n",
    "page_urls = []\n",
    "for index in range(0, len(table_rows)):\n",
    "    first_td = table_rows[index].find_all('td')[0]\n",
    "    td_url = first_td.find_all('a')\n",
    "    if len(td_url) > 0:\n",
    "        page_url = page_url_base + td_url[0].get('href')\n",
    "        if \"png\" not in page_url:\n",
    "            page_urls.append(page_url)\n",
    "            \n",
    "#중복 url 제거\n",
    "page_urls = list(set(page_urls))\n",
    "for page in page_urls[:3]:\n",
    "    print(page)"
   ]
  },
  {
   "cell_type": "code",
   "execution_count": 2,
   "id": "6267af87",
   "metadata": {},
   "outputs": [
    {
     "name": "stdout",
     "output_type": "stream",
     "text": [
      "오이 \n",
      "\n",
      "\n",
      "채소박목인터넷 밈/음식\n",
      "\n",
      "\n",
      "\n"
     ]
    }
   ],
   "source": [
    "# URL 페이지 정보를 기반으로 크롤링하기\n",
    "\n",
    "driver = webdriver.Chrome(executable_path=executable_path)\n",
    "\n",
    "driver.get(page_urls[0])\n",
    "req = driver.page_source\n",
    "soup = BeautifulSoup(req, \"html.parser\")\n",
    "contents_table = soup.find(name='article')\n",
    "title = contents_table.find_all('h1')[0]\n",
    "category = contents_table.find_all('ul')[0]\n",
    "content_paragraphs = contents_table.find_all(name='div',attrs={\"class\":\"wiki-para-graph\"})\n",
    "content_corpus_list = []\n",
    "\n",
    "for paragraphs in content_paragraphs:\n",
    "    content_corpus_list.append(paragraphs.text)\n",
    "content_corpus = \"\".join(content_corpus_list)\n",
    "\n",
    "print(title.text)\n",
    "print(\"\\n\")\n",
    "print(category.text)\n",
    "print(\"\\n\")\n",
    "print(content_corpus)\n",
    "\n",
    "driver.close()"
   ]
  },
  {
   "cell_type": "code",
   "execution_count": null,
   "id": "3a857050",
   "metadata": {},
   "outputs": [],
   "source": []
  }
 ],
 "metadata": {
  "kernelspec": {
   "display_name": "Python 3",
   "language": "python",
   "name": "python3"
  },
  "language_info": {
   "codemirror_mode": {
    "name": "ipython",
    "version": 3
   },
   "file_extension": ".py",
   "mimetype": "text/x-python",
   "name": "python",
   "nbconvert_exporter": "python",
   "pygments_lexer": "ipython3",
   "version": "3.8.8"
  }
 },
 "nbformat": 4,
 "nbformat_minor": 5
}
