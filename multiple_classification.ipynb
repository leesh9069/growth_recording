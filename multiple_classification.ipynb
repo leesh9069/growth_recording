{
  "nbformat": 4,
  "nbformat_minor": 0,
  "metadata": {
    "colab": {
      "name": "multiple_classification.ipynb",
      "provenance": [],
      "collapsed_sections": [],
      "mount_file_id": "1-iW8nI7R0m1oppeiztsIRITVdo1qA9N9",
      "authorship_tag": "ABX9TyMr82SsjtQJiTKnACAQ3m6q",
      "include_colab_link": true
    },
    "kernelspec": {
      "name": "python3",
      "display_name": "Python 3"
    },
    "language_info": {
      "name": "python"
    }
  },
  "cells": [
    {
      "cell_type": "markdown",
      "metadata": {
        "id": "view-in-github",
        "colab_type": "text"
      },
      "source": [
        "<a href=\"https://colab.research.google.com/github/leesh9069/growth_recording/blob/main/multiple_classification.ipynb\" target=\"_parent\"><img src=\"https://colab.research.google.com/assets/colab-badge.svg\" alt=\"Open In Colab\"/></a>"
      ]
    },
    {
      "cell_type": "code",
      "metadata": {
        "id": "Tnimo-U3qDlj"
      },
      "source": [
        "%run /content/drive/MyDrive/딥러닝/MathUtils.ipynb"
      ],
      "execution_count": null,
      "outputs": []
    },
    {
      "cell_type": "code",
      "metadata": {
        "id": "OK6XbUjjqfuq"
      },
      "source": [
        "%run /content/drive/MyDrive/딥러닝/pulsar_model.ipynb"
      ],
      "execution_count": null,
      "outputs": []
    },
    {
      "cell_type": "code",
      "metadata": {
        "colab": {
          "base_uri": "https://localhost:8080/"
        },
        "id": "9XwDgTyOqigg",
        "outputId": "d2ba5a77-6095-45a6-f2ad-bcd27aa338fc"
      },
      "source": [
        "df = pd.read_csv('/content/drive/MyDrive/딥러닝/faults.csv')\n",
        "df.info()"
      ],
      "execution_count": null,
      "outputs": [
        {
          "output_type": "stream",
          "name": "stdout",
          "text": [
            "<class 'pandas.core.frame.DataFrame'>\n",
            "RangeIndex: 1941 entries, 0 to 1940\n",
            "Data columns (total 34 columns):\n",
            " #   Column                 Non-Null Count  Dtype  \n",
            "---  ------                 --------------  -----  \n",
            " 0   X_Minimum              1941 non-null   int64  \n",
            " 1   X_Maximum              1941 non-null   int64  \n",
            " 2   Y_Minimum              1941 non-null   int64  \n",
            " 3   Y_Maximum              1941 non-null   int64  \n",
            " 4   Pixels_Areas           1941 non-null   int64  \n",
            " 5   X_Perimeter            1941 non-null   int64  \n",
            " 6   Y_Perimeter            1941 non-null   int64  \n",
            " 7   Sum_of_Luminosity      1941 non-null   int64  \n",
            " 8   Minimum_of_Luminosity  1941 non-null   int64  \n",
            " 9   Maximum_of_Luminosity  1941 non-null   int64  \n",
            " 10  Length_of_Conveyer     1941 non-null   int64  \n",
            " 11  TypeOfSteel_A300       1941 non-null   int64  \n",
            " 12  TypeOfSteel_A400       1941 non-null   int64  \n",
            " 13  Steel_Plate_Thickness  1941 non-null   int64  \n",
            " 14  Edges_Index            1941 non-null   float64\n",
            " 15  Empty_Index            1941 non-null   float64\n",
            " 16  Square_Index           1941 non-null   float64\n",
            " 17  Outside_X_Index        1941 non-null   float64\n",
            " 18  Edges_X_Index          1941 non-null   float64\n",
            " 19  Edges_Y_Index          1941 non-null   float64\n",
            " 20  Outside_Global_Index   1941 non-null   float64\n",
            " 21  LogOfAreas             1941 non-null   float64\n",
            " 22  Log_X_Index            1941 non-null   float64\n",
            " 23  Log_Y_Index            1941 non-null   float64\n",
            " 24  Orientation_Index      1941 non-null   float64\n",
            " 25  Luminosity_Index       1941 non-null   float64\n",
            " 26  SigmoidOfAreas         1941 non-null   float64\n",
            " 27  Pastry                 1941 non-null   int64  \n",
            " 28  Z_Scratch              1941 non-null   int64  \n",
            " 29  K_Scatch               1941 non-null   int64  \n",
            " 30  Stains                 1941 non-null   int64  \n",
            " 31  Dirtiness              1941 non-null   int64  \n",
            " 32  Bumps                  1941 non-null   int64  \n",
            " 33  Other_Faults           1941 non-null   int64  \n",
            "dtypes: float64(13), int64(21)\n",
            "memory usage: 515.7 KB\n"
          ]
        }
      ]
    },
    {
      "cell_type": "code",
      "metadata": {
        "colab": {
          "base_uri": "https://localhost:8080/",
          "height": 317
        },
        "id": "W2IV9uvJrdyn",
        "outputId": "4682d34d-6019-42eb-d963-bf63a36937b3"
      },
      "source": [
        "df.describe()"
      ],
      "execution_count": null,
      "outputs": [
        {
          "output_type": "execute_result",
          "data": {
            "text/html": [
              "<div>\n",
              "<style scoped>\n",
              "    .dataframe tbody tr th:only-of-type {\n",
              "        vertical-align: middle;\n",
              "    }\n",
              "\n",
              "    .dataframe tbody tr th {\n",
              "        vertical-align: top;\n",
              "    }\n",
              "\n",
              "    .dataframe thead th {\n",
              "        text-align: right;\n",
              "    }\n",
              "</style>\n",
              "<table border=\"1\" class=\"dataframe\">\n",
              "  <thead>\n",
              "    <tr style=\"text-align: right;\">\n",
              "      <th></th>\n",
              "      <th>X_Minimum</th>\n",
              "      <th>X_Maximum</th>\n",
              "      <th>Y_Minimum</th>\n",
              "      <th>Y_Maximum</th>\n",
              "      <th>Pixels_Areas</th>\n",
              "      <th>X_Perimeter</th>\n",
              "      <th>Y_Perimeter</th>\n",
              "      <th>Sum_of_Luminosity</th>\n",
              "      <th>Minimum_of_Luminosity</th>\n",
              "      <th>Maximum_of_Luminosity</th>\n",
              "      <th>Length_of_Conveyer</th>\n",
              "      <th>TypeOfSteel_A300</th>\n",
              "      <th>TypeOfSteel_A400</th>\n",
              "      <th>Steel_Plate_Thickness</th>\n",
              "      <th>Edges_Index</th>\n",
              "      <th>Empty_Index</th>\n",
              "      <th>Square_Index</th>\n",
              "      <th>Outside_X_Index</th>\n",
              "      <th>Edges_X_Index</th>\n",
              "      <th>Edges_Y_Index</th>\n",
              "      <th>Outside_Global_Index</th>\n",
              "      <th>LogOfAreas</th>\n",
              "      <th>Log_X_Index</th>\n",
              "      <th>Log_Y_Index</th>\n",
              "      <th>Orientation_Index</th>\n",
              "      <th>Luminosity_Index</th>\n",
              "      <th>SigmoidOfAreas</th>\n",
              "      <th>Pastry</th>\n",
              "      <th>Z_Scratch</th>\n",
              "      <th>K_Scatch</th>\n",
              "      <th>Stains</th>\n",
              "      <th>Dirtiness</th>\n",
              "      <th>Bumps</th>\n",
              "      <th>Other_Faults</th>\n",
              "    </tr>\n",
              "  </thead>\n",
              "  <tbody>\n",
              "    <tr>\n",
              "      <th>count</th>\n",
              "      <td>1941.000000</td>\n",
              "      <td>1941.000000</td>\n",
              "      <td>1.941000e+03</td>\n",
              "      <td>1.941000e+03</td>\n",
              "      <td>1941.000000</td>\n",
              "      <td>1941.000000</td>\n",
              "      <td>1941.000000</td>\n",
              "      <td>1.941000e+03</td>\n",
              "      <td>1941.000000</td>\n",
              "      <td>1941.000000</td>\n",
              "      <td>1941.000000</td>\n",
              "      <td>1941.000000</td>\n",
              "      <td>1941.000000</td>\n",
              "      <td>1941.000000</td>\n",
              "      <td>1941.000000</td>\n",
              "      <td>1941.000000</td>\n",
              "      <td>1941.000000</td>\n",
              "      <td>1941.000000</td>\n",
              "      <td>1941.000000</td>\n",
              "      <td>1941.000000</td>\n",
              "      <td>1941.000000</td>\n",
              "      <td>1941.000000</td>\n",
              "      <td>1941.000000</td>\n",
              "      <td>1941.000000</td>\n",
              "      <td>1941.000000</td>\n",
              "      <td>1941.000000</td>\n",
              "      <td>1941.000000</td>\n",
              "      <td>1941.000000</td>\n",
              "      <td>1941.000000</td>\n",
              "      <td>1941.000000</td>\n",
              "      <td>1941.000000</td>\n",
              "      <td>1941.000000</td>\n",
              "      <td>1941.000000</td>\n",
              "      <td>1941.000000</td>\n",
              "    </tr>\n",
              "    <tr>\n",
              "      <th>mean</th>\n",
              "      <td>571.136012</td>\n",
              "      <td>617.964451</td>\n",
              "      <td>1.650685e+06</td>\n",
              "      <td>1.650739e+06</td>\n",
              "      <td>1893.878413</td>\n",
              "      <td>111.855229</td>\n",
              "      <td>82.965997</td>\n",
              "      <td>2.063121e+05</td>\n",
              "      <td>84.548686</td>\n",
              "      <td>130.193715</td>\n",
              "      <td>1459.160227</td>\n",
              "      <td>0.400309</td>\n",
              "      <td>0.599691</td>\n",
              "      <td>78.737764</td>\n",
              "      <td>0.331715</td>\n",
              "      <td>0.414203</td>\n",
              "      <td>0.570767</td>\n",
              "      <td>0.033361</td>\n",
              "      <td>0.610529</td>\n",
              "      <td>0.813472</td>\n",
              "      <td>0.575734</td>\n",
              "      <td>2.492388</td>\n",
              "      <td>1.335686</td>\n",
              "      <td>1.403271</td>\n",
              "      <td>0.083288</td>\n",
              "      <td>-0.131305</td>\n",
              "      <td>0.585420</td>\n",
              "      <td>0.081401</td>\n",
              "      <td>0.097888</td>\n",
              "      <td>0.201443</td>\n",
              "      <td>0.037094</td>\n",
              "      <td>0.028336</td>\n",
              "      <td>0.207110</td>\n",
              "      <td>0.346728</td>\n",
              "    </tr>\n",
              "    <tr>\n",
              "      <th>std</th>\n",
              "      <td>520.690671</td>\n",
              "      <td>497.627410</td>\n",
              "      <td>1.774578e+06</td>\n",
              "      <td>1.774590e+06</td>\n",
              "      <td>5168.459560</td>\n",
              "      <td>301.209187</td>\n",
              "      <td>426.482879</td>\n",
              "      <td>5.122936e+05</td>\n",
              "      <td>32.134276</td>\n",
              "      <td>18.690992</td>\n",
              "      <td>144.577823</td>\n",
              "      <td>0.490087</td>\n",
              "      <td>0.490087</td>\n",
              "      <td>55.086032</td>\n",
              "      <td>0.299712</td>\n",
              "      <td>0.137261</td>\n",
              "      <td>0.271058</td>\n",
              "      <td>0.058961</td>\n",
              "      <td>0.243277</td>\n",
              "      <td>0.234274</td>\n",
              "      <td>0.482352</td>\n",
              "      <td>0.788930</td>\n",
              "      <td>0.481612</td>\n",
              "      <td>0.454345</td>\n",
              "      <td>0.500868</td>\n",
              "      <td>0.148767</td>\n",
              "      <td>0.339452</td>\n",
              "      <td>0.273521</td>\n",
              "      <td>0.297239</td>\n",
              "      <td>0.401181</td>\n",
              "      <td>0.189042</td>\n",
              "      <td>0.165973</td>\n",
              "      <td>0.405339</td>\n",
              "      <td>0.476051</td>\n",
              "    </tr>\n",
              "    <tr>\n",
              "      <th>min</th>\n",
              "      <td>0.000000</td>\n",
              "      <td>4.000000</td>\n",
              "      <td>6.712000e+03</td>\n",
              "      <td>6.724000e+03</td>\n",
              "      <td>2.000000</td>\n",
              "      <td>2.000000</td>\n",
              "      <td>1.000000</td>\n",
              "      <td>2.500000e+02</td>\n",
              "      <td>0.000000</td>\n",
              "      <td>37.000000</td>\n",
              "      <td>1227.000000</td>\n",
              "      <td>0.000000</td>\n",
              "      <td>0.000000</td>\n",
              "      <td>40.000000</td>\n",
              "      <td>0.000000</td>\n",
              "      <td>0.000000</td>\n",
              "      <td>0.008300</td>\n",
              "      <td>0.001500</td>\n",
              "      <td>0.014400</td>\n",
              "      <td>0.048400</td>\n",
              "      <td>0.000000</td>\n",
              "      <td>0.301000</td>\n",
              "      <td>0.301000</td>\n",
              "      <td>0.000000</td>\n",
              "      <td>-0.991000</td>\n",
              "      <td>-0.998900</td>\n",
              "      <td>0.119000</td>\n",
              "      <td>0.000000</td>\n",
              "      <td>0.000000</td>\n",
              "      <td>0.000000</td>\n",
              "      <td>0.000000</td>\n",
              "      <td>0.000000</td>\n",
              "      <td>0.000000</td>\n",
              "      <td>0.000000</td>\n",
              "    </tr>\n",
              "    <tr>\n",
              "      <th>25%</th>\n",
              "      <td>51.000000</td>\n",
              "      <td>192.000000</td>\n",
              "      <td>4.712530e+05</td>\n",
              "      <td>4.712810e+05</td>\n",
              "      <td>84.000000</td>\n",
              "      <td>15.000000</td>\n",
              "      <td>13.000000</td>\n",
              "      <td>9.522000e+03</td>\n",
              "      <td>63.000000</td>\n",
              "      <td>124.000000</td>\n",
              "      <td>1358.000000</td>\n",
              "      <td>0.000000</td>\n",
              "      <td>0.000000</td>\n",
              "      <td>40.000000</td>\n",
              "      <td>0.060400</td>\n",
              "      <td>0.315800</td>\n",
              "      <td>0.361300</td>\n",
              "      <td>0.006600</td>\n",
              "      <td>0.411800</td>\n",
              "      <td>0.596800</td>\n",
              "      <td>0.000000</td>\n",
              "      <td>1.924300</td>\n",
              "      <td>1.000000</td>\n",
              "      <td>1.079200</td>\n",
              "      <td>-0.333300</td>\n",
              "      <td>-0.195000</td>\n",
              "      <td>0.248200</td>\n",
              "      <td>0.000000</td>\n",
              "      <td>0.000000</td>\n",
              "      <td>0.000000</td>\n",
              "      <td>0.000000</td>\n",
              "      <td>0.000000</td>\n",
              "      <td>0.000000</td>\n",
              "      <td>0.000000</td>\n",
              "    </tr>\n",
              "    <tr>\n",
              "      <th>50%</th>\n",
              "      <td>435.000000</td>\n",
              "      <td>467.000000</td>\n",
              "      <td>1.204128e+06</td>\n",
              "      <td>1.204136e+06</td>\n",
              "      <td>174.000000</td>\n",
              "      <td>26.000000</td>\n",
              "      <td>25.000000</td>\n",
              "      <td>1.920200e+04</td>\n",
              "      <td>90.000000</td>\n",
              "      <td>127.000000</td>\n",
              "      <td>1364.000000</td>\n",
              "      <td>0.000000</td>\n",
              "      <td>1.000000</td>\n",
              "      <td>70.000000</td>\n",
              "      <td>0.227300</td>\n",
              "      <td>0.412100</td>\n",
              "      <td>0.555600</td>\n",
              "      <td>0.010100</td>\n",
              "      <td>0.636400</td>\n",
              "      <td>0.947400</td>\n",
              "      <td>1.000000</td>\n",
              "      <td>2.240600</td>\n",
              "      <td>1.176100</td>\n",
              "      <td>1.322200</td>\n",
              "      <td>0.095200</td>\n",
              "      <td>-0.133000</td>\n",
              "      <td>0.506300</td>\n",
              "      <td>0.000000</td>\n",
              "      <td>0.000000</td>\n",
              "      <td>0.000000</td>\n",
              "      <td>0.000000</td>\n",
              "      <td>0.000000</td>\n",
              "      <td>0.000000</td>\n",
              "      <td>0.000000</td>\n",
              "    </tr>\n",
              "    <tr>\n",
              "      <th>75%</th>\n",
              "      <td>1053.000000</td>\n",
              "      <td>1072.000000</td>\n",
              "      <td>2.183073e+06</td>\n",
              "      <td>2.183084e+06</td>\n",
              "      <td>822.000000</td>\n",
              "      <td>84.000000</td>\n",
              "      <td>83.000000</td>\n",
              "      <td>8.301100e+04</td>\n",
              "      <td>106.000000</td>\n",
              "      <td>140.000000</td>\n",
              "      <td>1650.000000</td>\n",
              "      <td>1.000000</td>\n",
              "      <td>1.000000</td>\n",
              "      <td>80.000000</td>\n",
              "      <td>0.573800</td>\n",
              "      <td>0.501600</td>\n",
              "      <td>0.818200</td>\n",
              "      <td>0.023500</td>\n",
              "      <td>0.800000</td>\n",
              "      <td>1.000000</td>\n",
              "      <td>1.000000</td>\n",
              "      <td>2.914900</td>\n",
              "      <td>1.518500</td>\n",
              "      <td>1.732400</td>\n",
              "      <td>0.511600</td>\n",
              "      <td>-0.066600</td>\n",
              "      <td>0.999800</td>\n",
              "      <td>0.000000</td>\n",
              "      <td>0.000000</td>\n",
              "      <td>0.000000</td>\n",
              "      <td>0.000000</td>\n",
              "      <td>0.000000</td>\n",
              "      <td>0.000000</td>\n",
              "      <td>1.000000</td>\n",
              "    </tr>\n",
              "    <tr>\n",
              "      <th>max</th>\n",
              "      <td>1705.000000</td>\n",
              "      <td>1713.000000</td>\n",
              "      <td>1.298766e+07</td>\n",
              "      <td>1.298769e+07</td>\n",
              "      <td>152655.000000</td>\n",
              "      <td>10449.000000</td>\n",
              "      <td>18152.000000</td>\n",
              "      <td>1.159141e+07</td>\n",
              "      <td>203.000000</td>\n",
              "      <td>253.000000</td>\n",
              "      <td>1794.000000</td>\n",
              "      <td>1.000000</td>\n",
              "      <td>1.000000</td>\n",
              "      <td>300.000000</td>\n",
              "      <td>0.995200</td>\n",
              "      <td>0.943900</td>\n",
              "      <td>1.000000</td>\n",
              "      <td>0.875900</td>\n",
              "      <td>1.000000</td>\n",
              "      <td>1.000000</td>\n",
              "      <td>1.000000</td>\n",
              "      <td>5.183700</td>\n",
              "      <td>3.074100</td>\n",
              "      <td>4.258700</td>\n",
              "      <td>0.991700</td>\n",
              "      <td>0.642100</td>\n",
              "      <td>1.000000</td>\n",
              "      <td>1.000000</td>\n",
              "      <td>1.000000</td>\n",
              "      <td>1.000000</td>\n",
              "      <td>1.000000</td>\n",
              "      <td>1.000000</td>\n",
              "      <td>1.000000</td>\n",
              "      <td>1.000000</td>\n",
              "    </tr>\n",
              "  </tbody>\n",
              "</table>\n",
              "</div>"
            ],
            "text/plain": [
              "         X_Minimum    X_Maximum  ...        Bumps  Other_Faults\n",
              "count  1941.000000  1941.000000  ...  1941.000000   1941.000000\n",
              "mean    571.136012   617.964451  ...     0.207110      0.346728\n",
              "std     520.690671   497.627410  ...     0.405339      0.476051\n",
              "min       0.000000     4.000000  ...     0.000000      0.000000\n",
              "25%      51.000000   192.000000  ...     0.000000      0.000000\n",
              "50%     435.000000   467.000000  ...     0.000000      0.000000\n",
              "75%    1053.000000  1072.000000  ...     0.000000      1.000000\n",
              "max    1705.000000  1713.000000  ...     1.000000      1.000000\n",
              "\n",
              "[8 rows x 34 columns]"
            ]
          },
          "metadata": {},
          "execution_count": 4
        }
      ]
    },
    {
      "cell_type": "code",
      "metadata": {
        "colab": {
          "base_uri": "https://localhost:8080/",
          "height": 419
        },
        "id": "7bBBvGGrrhYy",
        "outputId": "19b5a069-1ba5-4438-dc78-105b5701420c"
      },
      "source": [
        "dataset = df.iloc[:, 27:]\n",
        "dataset"
      ],
      "execution_count": null,
      "outputs": [
        {
          "output_type": "execute_result",
          "data": {
            "text/html": [
              "<div>\n",
              "<style scoped>\n",
              "    .dataframe tbody tr th:only-of-type {\n",
              "        vertical-align: middle;\n",
              "    }\n",
              "\n",
              "    .dataframe tbody tr th {\n",
              "        vertical-align: top;\n",
              "    }\n",
              "\n",
              "    .dataframe thead th {\n",
              "        text-align: right;\n",
              "    }\n",
              "</style>\n",
              "<table border=\"1\" class=\"dataframe\">\n",
              "  <thead>\n",
              "    <tr style=\"text-align: right;\">\n",
              "      <th></th>\n",
              "      <th>Pastry</th>\n",
              "      <th>Z_Scratch</th>\n",
              "      <th>K_Scatch</th>\n",
              "      <th>Stains</th>\n",
              "      <th>Dirtiness</th>\n",
              "      <th>Bumps</th>\n",
              "      <th>Other_Faults</th>\n",
              "    </tr>\n",
              "  </thead>\n",
              "  <tbody>\n",
              "    <tr>\n",
              "      <th>0</th>\n",
              "      <td>1</td>\n",
              "      <td>0</td>\n",
              "      <td>0</td>\n",
              "      <td>0</td>\n",
              "      <td>0</td>\n",
              "      <td>0</td>\n",
              "      <td>0</td>\n",
              "    </tr>\n",
              "    <tr>\n",
              "      <th>1</th>\n",
              "      <td>1</td>\n",
              "      <td>0</td>\n",
              "      <td>0</td>\n",
              "      <td>0</td>\n",
              "      <td>0</td>\n",
              "      <td>0</td>\n",
              "      <td>0</td>\n",
              "    </tr>\n",
              "    <tr>\n",
              "      <th>2</th>\n",
              "      <td>1</td>\n",
              "      <td>0</td>\n",
              "      <td>0</td>\n",
              "      <td>0</td>\n",
              "      <td>0</td>\n",
              "      <td>0</td>\n",
              "      <td>0</td>\n",
              "    </tr>\n",
              "    <tr>\n",
              "      <th>3</th>\n",
              "      <td>1</td>\n",
              "      <td>0</td>\n",
              "      <td>0</td>\n",
              "      <td>0</td>\n",
              "      <td>0</td>\n",
              "      <td>0</td>\n",
              "      <td>0</td>\n",
              "    </tr>\n",
              "    <tr>\n",
              "      <th>4</th>\n",
              "      <td>1</td>\n",
              "      <td>0</td>\n",
              "      <td>0</td>\n",
              "      <td>0</td>\n",
              "      <td>0</td>\n",
              "      <td>0</td>\n",
              "      <td>0</td>\n",
              "    </tr>\n",
              "    <tr>\n",
              "      <th>...</th>\n",
              "      <td>...</td>\n",
              "      <td>...</td>\n",
              "      <td>...</td>\n",
              "      <td>...</td>\n",
              "      <td>...</td>\n",
              "      <td>...</td>\n",
              "      <td>...</td>\n",
              "    </tr>\n",
              "    <tr>\n",
              "      <th>1936</th>\n",
              "      <td>0</td>\n",
              "      <td>0</td>\n",
              "      <td>0</td>\n",
              "      <td>0</td>\n",
              "      <td>0</td>\n",
              "      <td>0</td>\n",
              "      <td>1</td>\n",
              "    </tr>\n",
              "    <tr>\n",
              "      <th>1937</th>\n",
              "      <td>0</td>\n",
              "      <td>0</td>\n",
              "      <td>0</td>\n",
              "      <td>0</td>\n",
              "      <td>0</td>\n",
              "      <td>0</td>\n",
              "      <td>1</td>\n",
              "    </tr>\n",
              "    <tr>\n",
              "      <th>1938</th>\n",
              "      <td>0</td>\n",
              "      <td>0</td>\n",
              "      <td>0</td>\n",
              "      <td>0</td>\n",
              "      <td>0</td>\n",
              "      <td>0</td>\n",
              "      <td>1</td>\n",
              "    </tr>\n",
              "    <tr>\n",
              "      <th>1939</th>\n",
              "      <td>0</td>\n",
              "      <td>0</td>\n",
              "      <td>0</td>\n",
              "      <td>0</td>\n",
              "      <td>0</td>\n",
              "      <td>0</td>\n",
              "      <td>1</td>\n",
              "    </tr>\n",
              "    <tr>\n",
              "      <th>1940</th>\n",
              "      <td>0</td>\n",
              "      <td>0</td>\n",
              "      <td>0</td>\n",
              "      <td>0</td>\n",
              "      <td>0</td>\n",
              "      <td>0</td>\n",
              "      <td>1</td>\n",
              "    </tr>\n",
              "  </tbody>\n",
              "</table>\n",
              "<p>1941 rows × 7 columns</p>\n",
              "</div>"
            ],
            "text/plain": [
              "      Pastry  Z_Scratch  K_Scatch  Stains  Dirtiness  Bumps  Other_Faults\n",
              "0          1          0         0       0          0      0             0\n",
              "1          1          0         0       0          0      0             0\n",
              "2          1          0         0       0          0      0             0\n",
              "3          1          0         0       0          0      0             0\n",
              "4          1          0         0       0          0      0             0\n",
              "...      ...        ...       ...     ...        ...    ...           ...\n",
              "1936       0          0         0       0          0      0             1\n",
              "1937       0          0         0       0          0      0             1\n",
              "1938       0          0         0       0          0      0             1\n",
              "1939       0          0         0       0          0      0             1\n",
              "1940       0          0         0       0          0      0             1\n",
              "\n",
              "[1941 rows x 7 columns]"
            ]
          },
          "metadata": {},
          "execution_count": 5
        }
      ]
    },
    {
      "cell_type": "code",
      "metadata": {
        "colab": {
          "base_uri": "https://localhost:8080/"
        },
        "id": "8Cw5gP8Hr5CK",
        "outputId": "5573f13b-7760-4e75-9a69-050da9e6fc63"
      },
      "source": [
        "dataset.value_counts()"
      ],
      "execution_count": null,
      "outputs": [
        {
          "output_type": "execute_result",
          "data": {
            "text/plain": [
              "Pastry  Z_Scratch  K_Scatch  Stains  Dirtiness  Bumps  Other_Faults\n",
              "0       0          0         0       0          0      1               673\n",
              "                                                1      0               402\n",
              "                   1         0       0          0      0               391\n",
              "        1          0         0       0          0      0               190\n",
              "1       0          0         0       0          0      0               158\n",
              "0       0          0         1       0          0      0                72\n",
              "                             0       1          0      0                55\n",
              "dtype: int64"
            ]
          },
          "metadata": {},
          "execution_count": 6
        }
      ]
    },
    {
      "cell_type": "code",
      "metadata": {
        "id": "A2zWjDo-r_gB"
      },
      "source": [
        "def multiple_classification_exec(epoch_count = 10, mb_size = 10, report = 1, train_ratio = 0.6, val_ratio = 0.2):\n",
        "    multiple_classification_load_dataset()\n",
        "    init_param()\n",
        "    train_metrics_mean_row, val_metrics_row, test_metrics = train_and_test(epoch_count, \n",
        "                                                                                mb_size, \n",
        "                                                                                report, \n",
        "                                                                                train_ratio,\n",
        "                                                                                val_ratio)\n",
        "    return train_metrics_mean_row, val_metrics_row, test_metrics"
      ],
      "execution_count": null,
      "outputs": []
    },
    {
      "cell_type": "code",
      "metadata": {
        "id": "UGzQovMhs1Y0"
      },
      "source": [
        "def multiple_classification_load_dataset():\n",
        "    with open('/content/drive/MyDrive/딥러닝/dataset/faults.csv') as csvfile:\n",
        "    #with open('/content/drive/MyDrive/딥러닝/dataset/faults_mini.csv') as csvfile:\n",
        "        csvreader = csv.reader(csvfile)\n",
        "        next(csvreader)\n",
        "        rows = []\n",
        "        for row in csvreader:\n",
        "            rows.append(row)\n",
        "\n",
        "    global data, input_cnt, output_cnt\n",
        "\n",
        "    input_cnt, output_cnt = 27, 7\n",
        "    data = np.asarray(rows, dtype='float32')"
      ],
      "execution_count": null,
      "outputs": []
    },
    {
      "cell_type": "code",
      "metadata": {
        "colab": {
          "base_uri": "https://localhost:8080/"
        },
        "id": "TcZ2JALGs9qE",
        "outputId": "321a8a6d-86a6-4bd4-e4a4-49048020e0f7"
      },
      "source": [
        "multiple_classification_load_dataset()\n",
        "\n",
        "data.shape"
      ],
      "execution_count": null,
      "outputs": [
        {
          "output_type": "execute_result",
          "data": {
            "text/plain": [
              "(10, 34)"
            ]
          },
          "metadata": {},
          "execution_count": 9
        }
      ]
    },
    {
      "cell_type": "code",
      "metadata": {
        "colab": {
          "base_uri": "https://localhost:8080/"
        },
        "id": "E4ag5FbStH1X",
        "outputId": "65c18ae3-e680-487a-8c5b-2729d509eb51"
      },
      "source": [
        "init_param()"
      ],
      "execution_count": null,
      "outputs": [
        {
          "output_type": "stream",
          "name": "stdout",
          "text": [
            "Initial weight Value : \n",
            "[[ 1.94189070e-03  5.60449644e-02  2.85906153e-02 -2.85889549e-02\n",
            "   2.27112579e-02 -1.69460484e-02 -4.53974437e-03]\n",
            " [-7.47054487e-03  4.11499159e-02  1.39120684e-02  6.51513971e-03\n",
            "  -5.14226916e-02 -6.57848866e-02 -2.28000513e-02]\n",
            " [-5.46282158e-03 -4.02301820e-02  9.60351877e-03 -3.54563578e-02\n",
            "  -3.30960489e-02  1.01316327e-02  4.50323541e-03]\n",
            " [ 4.65109790e-02  4.21365269e-02 -1.32368372e-02 -2.25934225e-02\n",
            "  -4.46347433e-02  1.51352808e-02  3.78266033e-02]\n",
            " [ 1.33245841e-03  2.30735885e-02  1.04248329e-02  5.42755006e-02\n",
            "  -5.67013520e-02  1.73182049e-02 -4.30386004e-02]\n",
            " [-2.24875367e-03 -3.41072883e-02  1.72215658e-02  5.14865208e-02\n",
            "  -4.85667843e-02 -9.45866085e-03 -5.47311467e-02]\n",
            " [ 4.84633693e-02 -8.29736852e-03  1.83673355e-02  6.60039376e-03\n",
            "   6.10237681e-03  3.43742133e-02 -1.56536481e-03]\n",
            " [-1.56260765e-02  1.70789029e-02  5.70585869e-04  4.62492224e-02\n",
            "  -1.67193092e-02  3.49472913e-02  5.90345513e-02]\n",
            " [ 3.36531899e-02 -1.56817018e-02 -1.46287022e-02 -3.68834518e-02\n",
            "  -1.30670776e-02 -4.56976685e-02 -7.25351070e-02]\n",
            " [ 5.43016593e-02 -1.07113705e-02  3.54766573e-02 -2.38907815e-02\n",
            "   1.26568795e-02  6.76609767e-03  1.90616765e-02]\n",
            " [-2.94041940e-02  2.19027088e-02  1.16936508e-02 -2.19307050e-02\n",
            "  -2.97703107e-02 -1.24574006e-02  1.48075305e-02]\n",
            " [ 7.52627204e-02  6.19580531e-02 -9.56213193e-03 -1.46085226e-02\n",
            "   2.40342456e-02  2.56866779e-04 -4.95858127e-02]\n",
            " [ 1.19030129e-02 -1.13641870e-03  2.58311727e-04 -3.72256719e-02\n",
            "  -4.73820524e-02 -2.99556738e-02 -5.24331197e-02]\n",
            " [-2.97704166e-02  4.29820629e-02  4.18521097e-02 -1.92913055e-02\n",
            "   5.86936921e-02  2.55689132e-02  5.38692561e-03]\n",
            " [-2.21291800e-02  4.50890930e-02 -3.67475305e-02 -4.02578533e-02\n",
            "  -6.14895597e-02  2.74490563e-02  4.91520473e-03]\n",
            " [ 3.84323500e-02 -1.49145436e-03 -3.57193936e-05  1.63336026e-02\n",
            "   5.97768225e-02 -4.52200414e-02  2.93763230e-02]\n",
            " [ 6.45185294e-03  2.61280846e-02 -8.92669196e-04  1.29964897e-02\n",
            "  -3.89235128e-02 -6.09285152e-03 -2.40103212e-03]\n",
            " [ 3.41297206e-02  9.23368542e-03  9.36988984e-03 -2.40586357e-03\n",
            "  -1.69087196e-02 -7.10656460e-03 -2.09602679e-02]\n",
            " [-8.15516508e-04 -1.65402748e-02  1.61299260e-02 -5.65416167e-02\n",
            "  -1.26344963e-02  2.75732685e-02  1.96749535e-02]\n",
            " [-6.36659630e-02 -3.47200249e-02  2.75407628e-02 -4.70266618e-02\n",
            "  -2.38984097e-02 -5.53927462e-04  4.80728338e-02]\n",
            " [ 6.14239756e-03  3.64608085e-03  6.95264059e-02  4.16425718e-02\n",
            "  -2.49497273e-03  4.98714769e-03  9.87154647e-03]\n",
            " [-4.51784528e-02 -2.88286646e-02  1.45245392e-02 -1.31447195e-03\n",
            "   4.03827345e-03 -3.41066950e-03 -4.22826712e-03]\n",
            " [ 7.62988208e-03 -4.27268828e-02  3.95523055e-02 -5.51371188e-02\n",
            "   8.81901163e-03 -1.65689430e-02  1.07049735e-02]\n",
            " [-1.21427068e-03 -1.20892672e-02  3.91168810e-03  1.36804850e-02\n",
            "   1.90458093e-02 -2.26189812e-02 -1.01755801e-02]\n",
            " [ 2.05840461e-03 -4.95429203e-02 -3.72656392e-02  9.90131013e-03\n",
            "   2.36850264e-02 -1.56901010e-02 -8.16813057e-04]\n",
            " [ 4.99538669e-02 -2.08956285e-02  1.08054748e-02  6.93256952e-02\n",
            "  -1.96025676e-02  3.77798002e-02 -2.21355668e-02]\n",
            " [ 4.63579310e-02 -9.61321685e-03  3.35786272e-03  2.13112676e-02\n",
            "   8.57151737e-03  8.14651679e-02  6.13507829e-02]]\n",
            "Initial bias Value : \n",
            "[0. 0. 0. 0. 0. 0. 0.]\n"
          ]
        }
      ]
    },
    {
      "cell_type": "code",
      "metadata": {
        "colab": {
          "base_uri": "https://localhost:8080/"
        },
        "id": "d5GsJRwlvW3D",
        "outputId": "dae70c56-c169-4f72-bd0b-64a1d445eb3d"
      },
      "source": [
        "print(\"weight.shape : \", weight.shape)\n",
        "print(\"bias.shape : \", bias.shape)"
      ],
      "execution_count": null,
      "outputs": [
        {
          "output_type": "stream",
          "name": "stdout",
          "text": [
            "weight.shape :  (27, 7)\n",
            "bias.shape :  (7,)\n"
          ]
        }
      ]
    },
    {
      "cell_type": "code",
      "metadata": {
        "colab": {
          "base_uri": "https://localhost:8080/"
        },
        "id": "HpYpacapvsdu",
        "outputId": "6c30bdca-e8a2-45f1-9736-3da644779531"
      },
      "source": [
        "mini_batch_step_count = arrange_data(mb_size = 6, train_ratio = 0.6, val_ratio = 0.2)\n",
        "print(\"mini_batch_step_count : \", mini_batch_step_count)"
      ],
      "execution_count": null,
      "outputs": [
        {
          "output_type": "stream",
          "name": "stdout",
          "text": [
            "mini_batch_step_count :  1\n"
          ]
        }
      ]
    },
    {
      "cell_type": "code",
      "metadata": {
        "id": "NFyDN3xyvuZY"
      },
      "source": [
        "train_x, train_y = get_train_data(mb_size = 3, n = 0)\n",
        "test_x, test_y   = get_test_data()\n",
        "val_x, val_y     = get_val_data()"
      ],
      "execution_count": null,
      "outputs": []
    },
    {
      "cell_type": "code",
      "metadata": {
        "id": "Lkv9ApWq2otk"
      },
      "source": [
        "def run_train(x, y):\n",
        "    loss = 0.001\n",
        "    accuracy = [100, 100, 100, 100]\n",
        "\n",
        "    return loss, accuracy\n",
        "\n",
        "def run_test(x, y):\n",
        "    loss = 0.001\n",
        "    accuracy = [100, 100, 100, 100]\n",
        "\n",
        "    return loss, accuracy\n",
        "        "
      ],
      "execution_count": null,
      "outputs": []
    },
    {
      "cell_type": "code",
      "metadata": {
        "id": "PPdohePxw34Z"
      },
      "source": [
        "def train_and_test(epoch_count, mb_size, report, train_ratio, val_ratio):\n",
        "\n",
        "    mini_batch_step_count = arrange_data(mb_size,train_ratio, val_ratio)\n",
        "\n",
        "    test_x, test_y = get_test_data()\n",
        "    val_x,  val_y  = get_val_data()\n",
        "\n",
        "    losses_mean_row = []\n",
        "    val_loss_row    = []\n",
        "\n",
        "    #losses_mean_row, accs_mean_row = [], []\n",
        "    #val_loss_row, val_acc_row      = [], []\n",
        "    \n",
        "    for epoch in range(epoch_count):\n",
        "\n",
        "        losses = []\n",
        "        #accs = []\n",
        "\n",
        "        for n in range(mini_batch_step_count):\n",
        "            train_x, train_y  = get_train_data(mb_size, n)\n",
        "           \n",
        "            loss, _           = run_train(train_x,train_y)\n",
        "               \n",
        "            losses.append(loss)\n",
        "            #accs.append(acc)\n",
        "\n",
        "        val_loss, val_acc = run_test(val_x, val_y)\n",
        "        val_loss_row.append(val_loss)\n",
        "        #val_acc_row.append(val_acc)  \n",
        "\n",
        "        if report > 0 and (epoch+1) % report == 0:\n",
        "            \n",
        "            print(\"Epoch {} : Train - Loss = {:.3f} / Val - Loss = {:.3f}, Acc = {:.3f}, Precision = {:.3f}, Recall = {:.3f}, F1 = {:.3F}\".\\\n",
        "                  format(epoch+1, np.mean(losses), val_loss, val_acc[0], val_acc[1], val_acc[2], val_acc[3]))\n",
        "            \n",
        "        losses_mean = np.mean(losses) \n",
        "        #accs_mean = np.mean(accs)\n",
        "\n",
        "        losses_mean_row.append(losses_mean)  \n",
        "        #accs_mean_row.append(accs_mean)   \n",
        "\n",
        "\n",
        "\n",
        "    test_loss, test_acc = run_test(test_x, test_y)\n",
        "    \n",
        "    print(\"\\n\",\"=\" * 50, 'Final Test', '=' * 50)\n",
        "    print('\\nTest Acc = {:.3f}, Precision = {:.3f}, Recall = {:.3f}, F1 = {:.3F}'.\\\n",
        "          format(test_acc[0], test_acc[1], test_acc[2], test_acc[3]))\n",
        "    print('\\nLoss = {:.3f}'.format(test_loss))\n",
        "\n",
        "    #return [losses_mean_row, accs_mean_row], [val_loss_row, val_acc_row], [test_loss , test_acc]\n",
        "    return [losses_mean_row], [val_loss_row], [test_loss , test_acc]"
      ],
      "execution_count": null,
      "outputs": []
    },
    {
      "cell_type": "code",
      "metadata": {
        "id": "uEpvJWh_2atv",
        "colab": {
          "base_uri": "https://localhost:8080/"
        },
        "outputId": "5e27b175-a666-4c80-bd4a-d4d64cef72be"
      },
      "source": [
        "train_metrice_mean_row, val_metrice_row, test_metrics = train_and_test(epoch_count = 10, \n",
        "                                                                       mb_size = 6, \n",
        "                                                                       report = 1, \n",
        "                                                                       train_ratio = 0.6, \n",
        "                                                                       val_ratio = 0.2)"
      ],
      "execution_count": null,
      "outputs": [
        {
          "output_type": "stream",
          "name": "stdout",
          "text": [
            "Epoch 1 : Train - Loss = 0.001 / Val - Loss = 0.001, Acc = 100.000, Precision = 100.000, Recall = 100.000, F1 = 100.000\n",
            "Epoch 2 : Train - Loss = 0.001 / Val - Loss = 0.001, Acc = 100.000, Precision = 100.000, Recall = 100.000, F1 = 100.000\n",
            "Epoch 3 : Train - Loss = 0.001 / Val - Loss = 0.001, Acc = 100.000, Precision = 100.000, Recall = 100.000, F1 = 100.000\n",
            "Epoch 4 : Train - Loss = 0.001 / Val - Loss = 0.001, Acc = 100.000, Precision = 100.000, Recall = 100.000, F1 = 100.000\n",
            "Epoch 5 : Train - Loss = 0.001 / Val - Loss = 0.001, Acc = 100.000, Precision = 100.000, Recall = 100.000, F1 = 100.000\n",
            "Epoch 6 : Train - Loss = 0.001 / Val - Loss = 0.001, Acc = 100.000, Precision = 100.000, Recall = 100.000, F1 = 100.000\n",
            "Epoch 7 : Train - Loss = 0.001 / Val - Loss = 0.001, Acc = 100.000, Precision = 100.000, Recall = 100.000, F1 = 100.000\n",
            "Epoch 8 : Train - Loss = 0.001 / Val - Loss = 0.001, Acc = 100.000, Precision = 100.000, Recall = 100.000, F1 = 100.000\n",
            "Epoch 9 : Train - Loss = 0.001 / Val - Loss = 0.001, Acc = 100.000, Precision = 100.000, Recall = 100.000, F1 = 100.000\n",
            "Epoch 10 : Train - Loss = 0.001 / Val - Loss = 0.001, Acc = 100.000, Precision = 100.000, Recall = 100.000, F1 = 100.000\n",
            "\n",
            " ================================================== Final Test ==================================================\n",
            "\n",
            "Test Acc = 100.000, Precision = 100.000, Recall = 100.000, F1 = 100.000\n",
            "\n",
            "Loss = 0.001\n"
          ]
        }
      ]
    },
    {
      "cell_type": "code",
      "metadata": {
        "colab": {
          "base_uri": "https://localhost:8080/"
        },
        "id": "_V_16Xy6rPZF",
        "outputId": "e463dab8-9022-4576-c9e2-3377abb2e4ac"
      },
      "source": [
        "y_hat, _ = forward_neuralnet(train_x)\n",
        "print(\"y_hat : \\n\", y_hat)\n",
        "print(\"y_hat.shape : \\n\", y_hat.shape)"
      ],
      "execution_count": null,
      "outputs": [
        {
          "output_type": "stream",
          "name": "stdout",
          "text": [
            "y_hat : \n",
            " [[  12796.09686853    1277.6710981    -1127.76273153  -17317.65317846\n",
            "   -25974.09774428    9418.11282589   15851.24371544]\n",
            " [  83599.4537539     5842.72718167   -7422.00174515 -115747.77403362\n",
            "  -163260.50660352   56040.01108156   93969.07293163]\n",
            " [  16492.34075983    1755.69991612   -1471.25644422  -22101.6726323\n",
            "   -33795.4994862    12492.00676428   20984.08378998]]\n",
            "y_hat.shape : \n",
            " (3, 7)\n"
          ]
        }
      ]
    },
    {
      "cell_type": "code",
      "metadata": {
        "id": "nbLcVoIZrarM"
      },
      "source": [
        "def softmax(x):\n",
        "    max_elem = np.max(x, axis = 1)\n",
        "    diff = (x.transpose() - max_elem).transpose()\n",
        "    exp = np.exp(diff)\n",
        "    sum_exp = np.sum(exp, axis = 1)\n",
        "    probs = (exp.transpose() / sum_exp).transpose()\n",
        "\n",
        "    return probs"
      ],
      "execution_count": null,
      "outputs": []
    },
    {
      "cell_type": "code",
      "metadata": {
        "colab": {
          "base_uri": "https://localhost:8080/"
        },
        "id": "jk_0w9UBr9WM",
        "outputId": "b8bdf902-b25d-4004-c854-d4c0aa1edb3a"
      },
      "source": [
        "# 위에서 작성한 함수 동작 시키기 \n",
        "probs = softmax(x = y_hat)\n",
        "print(\"probs.shape : \\n\", probs.shape)\n",
        "print(\"probs : \\n\", probs)"
      ],
      "execution_count": null,
      "outputs": [
        {
          "output_type": "stream",
          "name": "stdout",
          "text": [
            "probs.shape : \n",
            " (3, 7)\n",
            "probs : \n",
            " [[0. 0. 0. 0. 0. 0. 1.]\n",
            " [0. 0. 0. 0. 0. 0. 1.]\n",
            " [0. 0. 0. 0. 0. 0. 1.]]\n"
          ]
        }
      ]
    },
    {
      "cell_type": "code",
      "metadata": {
        "colab": {
          "base_uri": "https://localhost:8080/"
        },
        "id": "g4x6sryJsC7_",
        "outputId": "1986555d-a9c3-4dd5-cc8c-3c493a8dae3a"
      },
      "source": [
        "max_elem = np.max(y_hat, axis = 1)\n",
        "print(max_elem)"
      ],
      "execution_count": null,
      "outputs": [
        {
          "output_type": "stream",
          "name": "stdout",
          "text": [
            "[15851.24371544 93969.07293163 20984.08378998]\n"
          ]
        }
      ]
    },
    {
      "cell_type": "code",
      "metadata": {
        "colab": {
          "base_uri": "https://localhost:8080/"
        },
        "id": "zQ9nXhDPtL4c",
        "outputId": "c061daf8-f31f-4e60-ee38-d00311e180a5"
      },
      "source": [
        "diff = (y_hat.transpose() - max_elem).transpose()\n",
        "print(\"diff : \\n\", diff)\n",
        "print(\"diff.shape : \\n\", diff.shape)"
      ],
      "execution_count": null,
      "outputs": [
        {
          "output_type": "stream",
          "name": "stdout",
          "text": [
            "diff : \n",
            " [[  -3055.14684691  -14573.57261734  -16979.00644697  -33168.89689389\n",
            "   -41825.34145972   -6433.13088955       0.        ]\n",
            " [ -10369.61917773  -88126.34574996 -101391.07467678 -209716.84696525\n",
            "  -257229.57953514  -37929.06185007       0.        ]\n",
            " [  -4491.74303015  -19228.38387386  -22455.3402342   -43085.75642228\n",
            "   -54779.58327618   -8492.0770257        0.        ]]\n",
            "diff.shape : \n",
            " (3, 7)\n"
          ]
        }
      ]
    },
    {
      "cell_type": "code",
      "metadata": {
        "colab": {
          "base_uri": "https://localhost:8080/"
        },
        "id": "9QC_Wde9tPdz",
        "outputId": "323c8995-4a01-4c31-ee70-d244545b919a"
      },
      "source": [
        "exp = np.exp(diff)\n",
        "print(\"exp : \\n\",exp)"
      ],
      "execution_count": null,
      "outputs": [
        {
          "output_type": "stream",
          "name": "stdout",
          "text": [
            "exp : \n",
            " [[0. 0. 0. 0. 0. 0. 1.]\n",
            " [0. 0. 0. 0. 0. 0. 1.]\n",
            " [0. 0. 0. 0. 0. 0. 1.]]\n"
          ]
        }
      ]
    },
    {
      "cell_type": "code",
      "metadata": {
        "id": "bmILcHp8tYtT"
      },
      "source": [
        "def softmax_cross_entropy_with_logits(labels, y_hat):\n",
        "    probs = softmax(x = y_hat)\n",
        "    return - np.sum(labels * np.log(probs + 1.0e-10), axis = 1)"
      ],
      "execution_count": null,
      "outputs": []
    },
    {
      "cell_type": "code",
      "metadata": {
        "colab": {
          "base_uri": "https://localhost:8080/"
        },
        "id": "DtGR1alTvTCy",
        "outputId": "5b903032-e120-4d26-a888-63d4ba0f7096"
      },
      "source": [
        "entropy = softmax_cross_entropy_with_logits(labels=train_y, y_hat = y_hat)\n",
        "print(entropy)\n",
        "print(entropy.shape)"
      ],
      "execution_count": null,
      "outputs": [
        {
          "output_type": "stream",
          "name": "stdout",
          "text": [
            "[-1.00000008e-10  2.30258509e+01 -1.00000008e-10]\n",
            "(3,)\n"
          ]
        }
      ]
    },
    {
      "cell_type": "code",
      "metadata": {
        "id": "YmMu6ZKWvWZC"
      },
      "source": [
        "def forward_postproc(output, y):\n",
        "    entropy = softmax_cross_entropy_with_logits(labels = y, y_hat = output)\n",
        "    loss    = np.mean(entropy)\n",
        "    \n",
        "    return loss, [y, output, entropy]"
      ],
      "execution_count": null,
      "outputs": []
    },
    {
      "cell_type": "code",
      "metadata": {
        "colab": {
          "base_uri": "https://localhost:8080/"
        },
        "id": "qbmiaDJRwlAG",
        "outputId": "a15df21f-7933-4072-de9a-acc1170709ec"
      },
      "source": [
        "# 상단의 함수 실행 \n",
        "loss, _ = forward_postproc(output = y_hat, y = train_y)\n",
        "print(loss)"
      ],
      "execution_count": null,
      "outputs": [
        {
          "output_type": "stream",
          "name": "stdout",
          "text": [
            "7.6752836432468206\n"
          ]
        }
      ]
    },
    {
      "cell_type": "code",
      "metadata": {
        "id": "kG_vpgVFw1fB"
      },
      "source": [
        "def backprop_neuralnet(G_output, x):\n",
        "    global weight, bias\n",
        "\n",
        "    x_transpose = x.transpose()\n",
        "    G_w = np.matmul(x_transpose, G_output)\n",
        "\n",
        "    G_b = np.sum(G_output, axis = 0)\n",
        "\n",
        "    weight -= LEARNING_RATE * G_w\n",
        "    bias   -= LEARNING_RATE * G_b"
      ],
      "execution_count": null,
      "outputs": []
    },
    {
      "cell_type": "code",
      "metadata": {
        "id": "SVMrawZI0pgq"
      },
      "source": [
        "def softmax_cross_entropy_with_logits_derv(labels, y_hat):\n",
        "    return softmax(y_hat) - labels"
      ],
      "execution_count": null,
      "outputs": []
    },
    {
      "cell_type": "code",
      "metadata": {
        "id": "lRwb26bb0rzc"
      },
      "source": [
        "def backprop_postproc(aux_pp):\n",
        "    y, output, entropy = aux_pp\n",
        "    g_loss_entropy   = 1.0 / np.prod(entropy.shape) \n",
        "    g_entropy_output = softmax_cross_entropy_with_logits_derv(labels = y, y_hat = output) \n",
        "    G_output = g_entropy_output * g_loss_entropy\n",
        "\n",
        "    return G_output"
      ],
      "execution_count": null,
      "outputs": []
    },
    {
      "cell_type": "code",
      "metadata": {
        "id": "gkkh53D71wwX"
      },
      "source": [
        "def eval_accuracy_numpy(output,y):\n",
        "\n",
        "    est_yes = np.greater(output,0)\n",
        "    ans_yes = np.greater(y, 0.5)\n",
        "\n",
        "    est_no = np.logical_not(est_yes) \n",
        "    ans_no = np.logical_not(ans_yes)\n",
        "  \n",
        "    tp = np.sum(np.logical_and(est_yes, ans_yes))\n",
        "    tn = np.sum(np.logical_and(est_no, ans_no))\n",
        "    fp = np.sum(np.logical_and(ans_no, est_yes))\n",
        "    fn = np.sum(np.logical_and(ans_yes, est_no))\n",
        "\n",
        "    accuracy = safe_div(tp+tn,tp+fp+fn+tn)\n",
        "    precision = safe_div(tp,tp+fp)\n",
        "    recall = safe_div(tp,tp+fn)\n",
        "    f1 = 2 * safe_div(recall*precision,recall+precision)\n",
        "    \n",
        "    return [accuracy, precision, recall, f1]"
      ],
      "execution_count": null,
      "outputs": []
    },
    {
      "cell_type": "code",
      "metadata": {
        "id": "jfstLAvf16Yq"
      },
      "source": [
        "def safe_div(p, q):\n",
        "    p, q = float(p), float(q)\n",
        "    if np.abs(q) < 1.0e-20:\n",
        "        return np.sign(p)\n",
        "    return p / q"
      ],
      "execution_count": null,
      "outputs": []
    },
    {
      "cell_type": "code",
      "metadata": {
        "id": "zVN1F1Iv44du"
      },
      "source": [
        "def run_train(x, y):\n",
        "# 순전파 ▼\n",
        "    y_hat, aux_nn_x           = forward_neuralnet(x)\n",
        "    loss, aux_pp_y_output_CEE = forward_postproc(y_hat, y)\n",
        "\n",
        "    accuracy = eval_accuracy_numpy(y_hat, y)\n",
        "    \n",
        "# 역전파 ▼   \n",
        "    # 손실함수의 미분 \n",
        "    G_output = backprop_postproc(aux_pp_y_output_CEE)\n",
        "    # 경사 하강법(w,b값 갱신)\n",
        "    backprop_neuralnet(G_output, aux_nn_x)\n",
        "    \n",
        "    return loss, accuracy\n",
        "\n",
        "def run_test(x, y):\n",
        "    y_hat, _ = forward_neuralnet(x)\n",
        "    loss,  _ = forward_postproc(y_hat, y)\n",
        "    accuracy = eval_accuracy_numpy(y_hat, y)\n",
        "    return loss, accuracy"
      ],
      "execution_count": null,
      "outputs": []
    },
    {
      "cell_type": "code",
      "metadata": {
        "colab": {
          "base_uri": "https://localhost:8080/"
        },
        "id": "_qfwOSlu5U9W",
        "outputId": "ae25ccb9-dbe5-47af-e54a-6a2d4dc9ab00"
      },
      "source": [
        "train_metrics_mean_row, val_metrics_row, test_metrics = multiple_classification_exec(epoch_count = 100, \n",
        "                                                                                     mb_size = 32, \n",
        "                                                                                     report = 1, \n",
        "                                                                                     train_ratio = 0.6, \n",
        "                                                                                     val_ratio = 0.2)"
      ],
      "execution_count": null,
      "outputs": [
        {
          "output_type": "stream",
          "name": "stdout",
          "text": [
            "Initial weight Value : \n",
            "[[-0.02378317 -0.00388934  0.00227227 -0.04071272 -0.00764651  0.03388363\n",
            "  -0.03294485]\n",
            " [ 0.00288256 -0.00310509 -0.04246666  0.01034729  0.01904967  0.02312444\n",
            "   0.00476029]\n",
            " [ 0.04739337 -0.01057573  0.01237782 -0.00423357  0.00990216 -0.01349907\n",
            "   0.01783212]\n",
            " [ 0.07247497 -0.02177499 -0.02275379 -0.02184496  0.02899817 -0.02478963\n",
            "   0.02934022]\n",
            " [-0.03097266  0.03199648 -0.02573648  0.00567379  0.00553371 -0.01688723\n",
            "  -0.04830941]\n",
            " [ 0.02800126  0.06166306  0.06454844 -0.03980119 -0.02765595  0.00788691\n",
            "  -0.01439721]\n",
            " [-0.04135908 -0.03619616  0.02537294 -0.0186903  -0.06969465  0.01700883\n",
            "  -0.01764884]\n",
            " [ 0.03156705 -0.01643801 -0.02743564 -0.00676504 -0.00012169  0.02485144\n",
            "  -0.05044796]\n",
            " [-0.0092692  -0.01180442  0.00242642  0.01079428 -0.04145803  0.0062439\n",
            "   0.03496329]\n",
            " [ 0.00751133 -0.01933279 -0.07869061  0.00089516  0.03641672 -0.00636835\n",
            "  -0.01224785]\n",
            " [ 0.00293284  0.00554217 -0.01404476 -0.00292447 -0.01754857  0.0554777\n",
            "  -0.02130364]\n",
            " [-0.02102781 -0.00477605 -0.00807853 -0.00370329 -0.03673796  0.02844066\n",
            "   0.0365789 ]\n",
            " [-0.03100362  0.02591717 -0.03019149 -0.01660548  0.01830041 -0.05119621\n",
            "   0.03280842]\n",
            " [ 0.00980759 -0.01552084  0.01929324  0.01916918 -0.04705885 -0.00921019\n",
            "   0.0452007 ]\n",
            " [-0.01711049  0.01306828  0.01542758 -0.00238261 -0.00918181 -0.01786244\n",
            "  -0.0134663 ]\n",
            " [-0.02060877 -0.01722746  0.00815744  0.05685005  0.01482211 -0.03403523\n",
            "   0.01213637]\n",
            " [ 0.00694047 -0.00529465  0.01684084 -0.01287127 -0.05535629  0.0484543\n",
            "   0.01606676]\n",
            " [ 0.00312779 -0.01237374 -0.01228969 -0.00686996 -0.05309531  0.03565151\n",
            "   0.02532519]\n",
            " [ 0.01895129 -0.04391157 -0.01125098  0.01744514  0.00257025  0.00370783\n",
            "  -0.032432  ]\n",
            " [ 0.03621598 -0.04035709  0.04579784  0.07607237 -0.02159427  0.01559223\n",
            "  -0.00441652]\n",
            " [ 0.01753616  0.0290077   0.03301855 -0.03483974 -0.00477203  0.01542665\n",
            "   0.0439255 ]\n",
            " [ 0.01406414  0.0074568  -0.01586446  0.03822427  0.02595204  0.04189802\n",
            "  -0.07961521]\n",
            " [ 0.01665517 -0.00372497 -0.05634435 -0.02717087  0.00631886  0.01506323\n",
            "   0.03879268]\n",
            " [ 0.0047037   0.01314715 -0.00173401 -0.05702931 -0.02201232  0.00405374\n",
            "  -0.03304464]\n",
            " [-0.00540455 -0.03911128  0.00215072 -0.01154892  0.05978556  0.00849044\n",
            "   0.00124571]\n",
            " [ 0.04521022 -0.00356128  0.01759153 -0.01778351 -0.01717382 -0.02325062\n",
            "  -0.01766137]\n",
            " [ 0.02248109  0.00340157 -0.01749553  0.07660273  0.00032613 -0.00884417\n",
            "  -0.01716408]]\n",
            "Initial bias Value : \n",
            "[0. 0. 0. 0. 0. 0. 0.]\n",
            "Epoch 1 : Train - Loss = 16.190 / Val - Loss = 12.819, Acc = 0.642, Precision = 0.245, Recall = 0.722, F1 = 0.366\n",
            "Epoch 2 : Train - Loss = 16.410 / Val - Loss = 16.735, Acc = 0.512, Precision = 0.192, Recall = 0.755, F1 = 0.307\n",
            "Epoch 3 : Train - Loss = 15.431 / Val - Loss = 13.293, Acc = 0.495, Precision = 0.163, Recall = 0.616, F1 = 0.258\n",
            "Epoch 4 : Train - Loss = 15.431 / Val - Loss = 13.234, Acc = 0.530, Precision = 0.175, Recall = 0.616, F1 = 0.273\n",
            "Epoch 5 : Train - Loss = 15.311 / Val - Loss = 13.293, Acc = 0.479, Precision = 0.164, Recall = 0.644, F1 = 0.261\n",
            "Epoch 6 : Train - Loss = 15.351 / Val - Loss = 12.937, Acc = 0.482, Precision = 0.160, Recall = 0.616, F1 = 0.254\n",
            "Epoch 7 : Train - Loss = 15.630 / Val - Loss = 13.056, Acc = 0.493, Precision = 0.167, Recall = 0.637, F1 = 0.264\n",
            "Epoch 8 : Train - Loss = 14.871 / Val - Loss = 12.997, Acc = 0.598, Precision = 0.196, Recall = 0.585, F1 = 0.293\n",
            "Epoch 9 : Train - Loss = 15.151 / Val - Loss = 13.293, Acc = 0.581, Precision = 0.191, Recall = 0.595, F1 = 0.289\n",
            "Epoch 10 : Train - Loss = 15.371 / Val - Loss = 15.845, Acc = 0.614, Precision = 0.234, Recall = 0.750, F1 = 0.357\n",
            "Epoch 11 : Train - Loss = 15.211 / Val - Loss = 13.115, Acc = 0.606, Precision = 0.205, Recall = 0.608, F1 = 0.306\n",
            "Epoch 12 : Train - Loss = 14.911 / Val - Loss = 15.608, Acc = 0.487, Precision = 0.191, Recall = 0.802, F1 = 0.309\n",
            "Epoch 13 : Train - Loss = 15.071 / Val - Loss = 12.759, Acc = 0.499, Precision = 0.180, Recall = 0.709, F1 = 0.288\n",
            "Epoch 14 : Train - Loss = 14.951 / Val - Loss = 13.293, Acc = 0.596, Precision = 0.203, Recall = 0.624, F1 = 0.306\n",
            "Epoch 15 : Train - Loss = 15.011 / Val - Loss = 13.056, Acc = 0.509, Precision = 0.205, Recall = 0.851, F1 = 0.331\n",
            "Epoch 16 : Train - Loss = 14.831 / Val - Loss = 12.997, Acc = 0.411, Precision = 0.158, Recall = 0.724, F1 = 0.260\n",
            "Epoch 17 : Train - Loss = 15.011 / Val - Loss = 13.234, Acc = 0.553, Precision = 0.206, Recall = 0.745, F1 = 0.322\n",
            "Epoch 18 : Train - Loss = 15.311 / Val - Loss = 13.115, Acc = 0.484, Precision = 0.173, Recall = 0.691, F1 = 0.277\n",
            "Epoch 19 : Train - Loss = 14.531 / Val - Loss = 13.234, Acc = 0.724, Precision = 0.267, Recall = 0.534, F1 = 0.356\n",
            "Epoch 20 : Train - Loss = 15.251 / Val - Loss = 13.175, Acc = 0.535, Precision = 0.201, Recall = 0.755, F1 = 0.317\n",
            "Epoch 21 : Train - Loss = 15.391 / Val - Loss = 13.115, Acc = 0.437, Precision = 0.187, Recall = 0.879, F1 = 0.309\n",
            "Epoch 22 : Train - Loss = 14.631 / Val - Loss = 13.056, Acc = 0.553, Precision = 0.213, Recall = 0.789, F1 = 0.335\n",
            "Epoch 23 : Train - Loss = 15.071 / Val - Loss = 12.997, Acc = 0.542, Precision = 0.214, Recall = 0.825, F1 = 0.340\n",
            "Epoch 24 : Train - Loss = 14.991 / Val - Loss = 13.234, Acc = 0.610, Precision = 0.212, Recall = 0.637, F1 = 0.318\n",
            "Epoch 25 : Train - Loss = 15.291 / Val - Loss = 12.997, Acc = 0.531, Precision = 0.177, Recall = 0.624, F1 = 0.275\n",
            "Epoch 26 : Train - Loss = 14.811 / Val - Loss = 12.997, Acc = 0.598, Precision = 0.193, Recall = 0.570, F1 = 0.288\n",
            "Epoch 27 : Train - Loss = 15.231 / Val - Loss = 13.056, Acc = 0.592, Precision = 0.199, Recall = 0.613, F1 = 0.300\n",
            "Epoch 28 : Train - Loss = 14.791 / Val - Loss = 13.234, Acc = 0.610, Precision = 0.199, Recall = 0.570, F1 = 0.295\n",
            "Epoch 29 : Train - Loss = 15.690 / Val - Loss = 12.878, Acc = 0.472, Precision = 0.197, Recall = 0.876, F1 = 0.322\n",
            "Epoch 30 : Train - Loss = 14.791 / Val - Loss = 13.056, Acc = 0.694, Precision = 0.263, Recall = 0.631, F1 = 0.371\n",
            "Epoch 31 : Train - Loss = 15.111 / Val - Loss = 13.056, Acc = 0.560, Precision = 0.196, Recall = 0.668, F1 = 0.303\n",
            "Epoch 32 : Train - Loss = 14.771 / Val - Loss = 13.175, Acc = 0.701, Precision = 0.255, Recall = 0.572, F1 = 0.353\n",
            "Epoch 33 : Train - Loss = 14.891 / Val - Loss = 12.640, Acc = 0.510, Precision = 0.178, Recall = 0.670, F1 = 0.281\n",
            "Epoch 34 : Train - Loss = 14.411 / Val - Loss = 15.904, Acc = 0.549, Precision = 0.143, Recall = 0.433, F1 = 0.215\n",
            "Epoch 35 : Train - Loss = 15.151 / Val - Loss = 12.640, Acc = 0.610, Precision = 0.212, Recall = 0.637, F1 = 0.318\n",
            "Epoch 36 : Train - Loss = 15.191 / Val - Loss = 13.234, Acc = 0.551, Precision = 0.184, Recall = 0.621, F1 = 0.283\n",
            "Epoch 37 : Train - Loss = 14.911 / Val - Loss = 12.759, Acc = 0.602, Precision = 0.195, Recall = 0.570, F1 = 0.290\n",
            "Epoch 38 : Train - Loss = 15.011 / Val - Loss = 13.056, Acc = 0.654, Precision = 0.252, Recall = 0.719, F1 = 0.373\n",
            "Epoch 39 : Train - Loss = 15.451 / Val - Loss = 13.056, Acc = 0.487, Precision = 0.182, Recall = 0.742, F1 = 0.293\n",
            "Epoch 40 : Train - Loss = 14.631 / Val - Loss = 13.175, Acc = 0.613, Precision = 0.239, Recall = 0.781, F1 = 0.366\n",
            "Epoch 41 : Train - Loss = 14.671 / Val - Loss = 13.175, Acc = 0.599, Precision = 0.202, Recall = 0.613, F1 = 0.304\n",
            "Epoch 42 : Train - Loss = 14.851 / Val - Loss = 13.115, Acc = 0.576, Precision = 0.205, Recall = 0.686, F1 = 0.316\n",
            "Epoch 43 : Train - Loss = 14.871 / Val - Loss = 12.997, Acc = 0.627, Precision = 0.223, Recall = 0.647, F1 = 0.332\n",
            "Epoch 44 : Train - Loss = 14.971 / Val - Loss = 13.115, Acc = 0.547, Precision = 0.191, Recall = 0.673, F1 = 0.298\n",
            "Epoch 45 : Train - Loss = 14.631 / Val - Loss = 13.293, Acc = 0.593, Precision = 0.210, Recall = 0.668, F1 = 0.319\n",
            "Epoch 46 : Train - Loss = 15.011 / Val - Loss = 12.997, Acc = 0.571, Precision = 0.189, Recall = 0.608, F1 = 0.289\n",
            "Epoch 47 : Train - Loss = 14.711 / Val - Loss = 15.845, Acc = 0.451, Precision = 0.138, Recall = 0.541, F1 = 0.220\n",
            "Epoch 48 : Train - Loss = 14.771 / Val - Loss = 13.293, Acc = 0.525, Precision = 0.179, Recall = 0.647, F1 = 0.280\n",
            "Epoch 49 : Train - Loss = 14.951 / Val - Loss = 13.056, Acc = 0.490, Precision = 0.163, Recall = 0.624, F1 = 0.259\n",
            "Epoch 50 : Train - Loss = 15.011 / Val - Loss = 12.997, Acc = 0.597, Precision = 0.192, Recall = 0.570, F1 = 0.288\n",
            "Epoch 51 : Train - Loss = 14.751 / Val - Loss = 12.937, Acc = 0.589, Precision = 0.189, Recall = 0.572, F1 = 0.285\n",
            "Epoch 52 : Train - Loss = 15.131 / Val - Loss = 13.056, Acc = 0.571, Precision = 0.198, Recall = 0.657, F1 = 0.305\n",
            "Epoch 53 : Train - Loss = 15.011 / Val - Loss = 12.937, Acc = 0.540, Precision = 0.202, Recall = 0.755, F1 = 0.319\n",
            "Epoch 54 : Train - Loss = 15.131 / Val - Loss = 13.175, Acc = 0.593, Precision = 0.191, Recall = 0.570, F1 = 0.286\n",
            "Epoch 55 : Train - Loss = 14.971 / Val - Loss = 12.937, Acc = 0.592, Precision = 0.191, Recall = 0.572, F1 = 0.286\n",
            "Epoch 56 : Train - Loss = 15.470 / Val - Loss = 12.997, Acc = 0.544, Precision = 0.219, Recall = 0.853, F1 = 0.348\n",
            "Epoch 57 : Train - Loss = 15.051 / Val - Loss = 13.056, Acc = 0.435, Precision = 0.160, Recall = 0.698, F1 = 0.261\n",
            "Epoch 58 : Train - Loss = 14.831 / Val - Loss = 13.115, Acc = 0.578, Precision = 0.205, Recall = 0.680, F1 = 0.315\n",
            "Epoch 59 : Train - Loss = 14.751 / Val - Loss = 13.056, Acc = 0.532, Precision = 0.206, Recall = 0.799, F1 = 0.328\n",
            "Epoch 60 : Train - Loss = 14.831 / Val - Loss = 13.234, Acc = 0.456, Precision = 0.192, Recall = 0.874, F1 = 0.314\n",
            "Epoch 61 : Train - Loss = 14.731 / Val - Loss = 12.997, Acc = 0.610, Precision = 0.212, Recall = 0.637, F1 = 0.318\n",
            "Epoch 62 : Train - Loss = 15.151 / Val - Loss = 13.234, Acc = 0.591, Precision = 0.195, Recall = 0.595, F1 = 0.294\n",
            "Epoch 63 : Train - Loss = 15.191 / Val - Loss = 12.819, Acc = 0.594, Precision = 0.206, Recall = 0.647, F1 = 0.313\n",
            "Epoch 64 : Train - Loss = 15.051 / Val - Loss = 12.997, Acc = 0.485, Precision = 0.170, Recall = 0.673, F1 = 0.272\n",
            "Epoch 65 : Train - Loss = 14.831 / Val - Loss = 12.937, Acc = 0.594, Precision = 0.196, Recall = 0.593, F1 = 0.294\n",
            "Epoch 66 : Train - Loss = 14.891 / Val - Loss = 12.522, Acc = 0.596, Precision = 0.192, Recall = 0.570, F1 = 0.287\n",
            "Epoch 67 : Train - Loss = 14.771 / Val - Loss = 15.845, Acc = 0.562, Precision = 0.161, Recall = 0.490, F1 = 0.242\n",
            "Epoch 68 : Train - Loss = 14.811 / Val - Loss = 13.175, Acc = 0.490, Precision = 0.178, Recall = 0.714, F1 = 0.286\n",
            "Epoch 69 : Train - Loss = 14.691 / Val - Loss = 13.175, Acc = 0.487, Precision = 0.171, Recall = 0.673, F1 = 0.273\n",
            "Epoch 70 : Train - Loss = 15.171 / Val - Loss = 15.133, Acc = 0.648, Precision = 0.248, Recall = 0.722, F1 = 0.369\n",
            "Epoch 71 : Train - Loss = 15.391 / Val - Loss = 12.997, Acc = 0.490, Precision = 0.178, Recall = 0.714, F1 = 0.286\n",
            "Epoch 72 : Train - Loss = 14.711 / Val - Loss = 15.667, Acc = 0.410, Precision = 0.123, Recall = 0.510, F1 = 0.198\n",
            "Epoch 73 : Train - Loss = 14.731 / Val - Loss = 12.819, Acc = 0.654, Precision = 0.252, Recall = 0.722, F1 = 0.373\n",
            "Epoch 74 : Train - Loss = 14.711 / Val - Loss = 12.581, Acc = 0.626, Precision = 0.205, Recall = 0.562, F1 = 0.300\n",
            "Epoch 75 : Train - Loss = 15.151 / Val - Loss = 13.056, Acc = 0.561, Precision = 0.190, Recall = 0.637, F1 = 0.293\n",
            "Epoch 76 : Train - Loss = 15.031 / Val - Loss = 12.759, Acc = 0.503, Precision = 0.179, Recall = 0.691, F1 = 0.284\n",
            "Epoch 77 : Train - Loss = 14.931 / Val - Loss = 13.234, Acc = 0.576, Precision = 0.209, Recall = 0.704, F1 = 0.322\n",
            "Epoch 78 : Train - Loss = 14.831 / Val - Loss = 13.056, Acc = 0.444, Precision = 0.170, Recall = 0.745, F1 = 0.277\n",
            "Epoch 79 : Train - Loss = 14.831 / Val - Loss = 12.640, Acc = 0.477, Precision = 0.176, Recall = 0.722, F1 = 0.283\n",
            "Epoch 80 : Train - Loss = 15.011 / Val - Loss = 14.777, Acc = 0.545, Precision = 0.215, Recall = 0.822, F1 = 0.340\n",
            "Epoch 81 : Train - Loss = 14.851 / Val - Loss = 13.175, Acc = 0.571, Precision = 0.215, Recall = 0.753, F1 = 0.334\n",
            "Epoch 82 : Train - Loss = 15.051 / Val - Loss = 12.640, Acc = 0.385, Precision = 0.152, Recall = 0.724, F1 = 0.252\n",
            "Epoch 83 : Train - Loss = 14.951 / Val - Loss = 12.700, Acc = 0.489, Precision = 0.171, Recall = 0.670, F1 = 0.273\n",
            "Epoch 84 : Train - Loss = 14.751 / Val - Loss = 12.522, Acc = 0.582, Precision = 0.187, Recall = 0.572, F1 = 0.281\n",
            "Epoch 85 : Train - Loss = 15.091 / Val - Loss = 13.293, Acc = 0.557, Precision = 0.194, Recall = 0.668, F1 = 0.301\n",
            "Epoch 86 : Train - Loss = 14.971 / Val - Loss = 13.175, Acc = 0.576, Precision = 0.190, Recall = 0.603, F1 = 0.289\n",
            "Epoch 87 : Train - Loss = 15.231 / Val - Loss = 12.581, Acc = 0.584, Precision = 0.187, Recall = 0.572, F1 = 0.282\n",
            "Epoch 88 : Train - Loss = 15.231 / Val - Loss = 13.293, Acc = 0.583, Precision = 0.209, Recall = 0.691, F1 = 0.321\n",
            "Epoch 89 : Train - Loss = 15.011 / Val - Loss = 14.243, Acc = 0.434, Precision = 0.186, Recall = 0.879, F1 = 0.307\n",
            "Epoch 90 : Train - Loss = 14.651 / Val - Loss = 12.997, Acc = 0.550, Precision = 0.183, Recall = 0.621, F1 = 0.283\n",
            "Epoch 91 : Train - Loss = 14.991 / Val - Loss = 13.175, Acc = 0.647, Precision = 0.256, Recall = 0.771, F1 = 0.384\n",
            "Epoch 92 : Train - Loss = 14.751 / Val - Loss = 13.234, Acc = 0.470, Precision = 0.166, Recall = 0.675, F1 = 0.267\n",
            "Epoch 93 : Train - Loss = 14.891 / Val - Loss = 13.234, Acc = 0.556, Precision = 0.201, Recall = 0.709, F1 = 0.313\n",
            "Epoch 94 : Train - Loss = 15.470 / Val - Loss = 12.759, Acc = 0.540, Precision = 0.201, Recall = 0.745, F1 = 0.316\n",
            "Epoch 95 : Train - Loss = 14.911 / Val - Loss = 13.115, Acc = 0.563, Precision = 0.200, Recall = 0.688, F1 = 0.310\n",
            "Epoch 96 : Train - Loss = 15.171 / Val - Loss = 13.056, Acc = 0.434, Precision = 0.177, Recall = 0.812, F1 = 0.291\n",
            "Epoch 97 : Train - Loss = 14.711 / Val - Loss = 16.023, Acc = 0.567, Precision = 0.142, Recall = 0.402, F1 = 0.210\n",
            "Epoch 98 : Train - Loss = 15.111 / Val - Loss = 12.640, Acc = 0.474, Precision = 0.163, Recall = 0.647, F1 = 0.260\n",
            "Epoch 99 : Train - Loss = 14.911 / Val - Loss = 13.175, Acc = 0.536, Precision = 0.183, Recall = 0.647, F1 = 0.285\n",
            "Epoch 100 : Train - Loss = 15.151 / Val - Loss = 15.786, Acc = 0.511, Precision = 0.205, Recall = 0.838, F1 = 0.329\n",
            "\n",
            " ================================================== Final Test ==================================================\n",
            "\n",
            "Test Acc = 0.509, Precision = 0.202, Recall = 0.825, F1 = 0.325\n",
            "\n",
            "Loss = 15.102\n"
          ]
        }
      ]
    },
    {
      "cell_type": "code",
      "metadata": {
        "colab": {
          "base_uri": "https://localhost:8080/",
          "height": 325
        },
        "id": "paiaA2Yu5W7h",
        "outputId": "0f2c1e1e-c0cc-475e-df80-fd73d7808076"
      },
      "source": [
        "import matplotlib.pyplot as plt\n",
        "\n",
        "plt.figure(figsize=(12, 4))\n",
        "\n",
        "plt.plot(train_metrics_mean_row[0], '--o', color = 'red', label = 'Train Loss')\n",
        "plt.plot(val_metrics_row[0], '-o', color = 'blue', label = 'Val Loss')\n",
        "\n",
        "plt.title('Single layer Perceptron Model \\nTrain Loss : {:.3f}\\nVal Loss: {:.3f}'.format(train_metrics_mean_row[0][-1] , val_metrics_row[0][-1]))\n",
        "plt.xlabel('Epochs')\n",
        "plt.ylabel('loss')\n",
        "plt.grid()\n",
        "plt.legend()\n",
        "\n",
        "plt.show()"
      ],
      "execution_count": null,
      "outputs": [
        {
          "output_type": "display_data",
          "data": {
            "image/png": "[encoded data removed]",
            "text/plain": [
              "<Figure size 864x288 with 1 Axes>"
            ]
          },
          "metadata": {
            "needs_background": "light"
          }
        }
      ]
    },
    {
      "cell_type": "code",
      "metadata": {
        "id": "emNXA1uK5qFk"
      },
      "source": [
        ""
      ],
      "execution_count": null,
      "outputs": []
    }
  ]
}