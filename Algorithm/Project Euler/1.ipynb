{
 "cells": [
  {
   "cell_type": "code",
   "execution_count": 2,
   "id": "ac4a9ecd",
   "metadata": {},
   "outputs": [
    {
     "name": "stdout",
     "output_type": "stream",
     "text": [
      "233168\n"
     ]
    }
   ],
   "source": [
    "# 1000보다 작은 자연수 중에서 3 또는 5의 배수를 모두 더하면?\n",
    "\n",
    "three = []\n",
    "for i in range(1,1000):\n",
    "    if i % 3 == 0:\n",
    "        three.append(i)\n",
    "    elif i % 5 == 0:\n",
    "        three.append(i)\n",
    "\n",
    "print(sum(three))"
   ]
  },
  {
   "cell_type": "code",
   "execution_count": null,
   "id": "91ed4859",
   "metadata": {},
   "outputs": [],
   "source": []
  }
 ],
 "metadata": {
  "kernelspec": {
   "display_name": "Python 3",
   "language": "python",
   "name": "python3"
  },
  "language_info": {
   "codemirror_mode": {
    "name": "ipython",
    "version": 3
   },
   "file_extension": ".py",
   "mimetype": "text/x-python",
   "name": "python",
   "nbconvert_exporter": "python",
   "pygments_lexer": "ipython3",
   "version": "3.8.8"
  }
 },
 "nbformat": 4,
 "nbformat_minor": 5
}

