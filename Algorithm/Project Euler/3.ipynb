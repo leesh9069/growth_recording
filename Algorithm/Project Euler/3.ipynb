{
 "cells": [
  {
   "cell_type": "code",
   "execution_count": 3,
   "id": "8485fead",
   "metadata": {},
   "outputs": [
    {
     "data": {
      "text/plain": [
       "6857"
      ]
     },
     "execution_count": 3,
     "metadata": {},
     "output_type": "execute_result"
    }
   ],
   "source": [
    "#어떤 수를 소수의 곱으로만 나타내는 것을 소인수분해라 하고, 이 소수들을 그 수의 소인수라고 합니다.\n",
    "#예를 들면 13195의 소인수는 5, 7, 13, 29 입니다.\n",
    "\n",
    "#600851475143의 소인수 중에서 가장 큰 수를 구하세요.\n",
    "\n",
    "def solution(x):\n",
    "    d = 2\n",
    "    lst = []\n",
    "    while d <= x:\n",
    "        if x % d == 0:\n",
    "            lst.append(d)\n",
    "            x = x / d\n",
    "        else:\n",
    "            d = d+1\n",
    "\n",
    "    return lst[-1]\n",
    "\n",
    "solution(600851475143)"
   ]
  },
  {
   "cell_type": "code",
   "execution_count": null,
   "id": "76f8a180",
   "metadata": {},
   "outputs": [],
   "source": [
    "# 소인수분해 첫 방식\n",
    "# 약수를 구해줄 필요가 없음에도 약수를 구해주는 과정이 포함되어 연산이 너무 오래걸린다.\n",
    "\n",
    "N = int(input())\n",
    "\n",
    "quotient = []\n",
    "for i in range(2, N+1):\n",
    "    if N%i == 0:\n",
    "        quotient.append(i)\n",
    "\n",
    "for j in quotient:\n",
    "    while N % j == 0:\n",
    "        N = N / j\n",
    "        print(j)"
   ]
  }
 ],
 "metadata": {
  "kernelspec": {
   "display_name": "Python 3",
   "language": "python",
   "name": "python3"
  },
  "language_info": {
   "codemirror_mode": {
    "name": "ipython",
    "version": 3
   },
   "file_extension": ".py",
   "mimetype": "text/x-python",
   "name": "python",
   "nbconvert_exporter": "python",
   "pygments_lexer": "ipython3",
   "version": "3.8.8"
  }
 },
 "nbformat": 4,
 "nbformat_minor": 5
}
