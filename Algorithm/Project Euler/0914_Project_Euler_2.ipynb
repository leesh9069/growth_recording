{
 "cells": [
  {
   "cell_type": "markdown",
   "id": "82cde147",
   "metadata": {},
   "source": [
    "피보나치(Fibonacci) 수열의 각 항은 바로 앞의 항 두 개를 더한 것입니다.   \n",
    "1과 2로 시작하는 경우 이 수열은 아래와 같습니다.\n",
    "\n",
    "1, 2, 3, 5, 8, 13, 21, 34, 55, 89, ...  \n",
    "4백만 이하의 짝수 값을 갖는 모든 피보나치 항을 더하면 얼마가 됩니까?"
   ]
  },
  {
   "cell_type": "code",
   "execution_count": 13,
   "id": "d2032f99",
   "metadata": {},
   "outputs": [],
   "source": [
    "def sum_pibo():\n",
    "    lst = [1,2]\n",
    "    a = lst[-1] + lst[-2]\n",
    "    while a <= 4000000:\n",
    "        a = lst[-1] + lst[-2]\n",
    "        lst.append(a)\n",
    "    \n",
    "    lst1 = lst[:-1]\n",
    "    \n",
    "    j = 0\n",
    "    for i in lst1:\n",
    "        if i % 2 == 0:\n",
    "            j += i\n",
    "    \n",
    "    return j"
   ]
  },
  {
   "cell_type": "code",
   "execution_count": 14,
   "id": "e2659d0a",
   "metadata": {},
   "outputs": [
    {
     "data": {
      "text/plain": [
       "4613732"
      ]
     },
     "execution_count": 14,
     "metadata": {},
     "output_type": "execute_result"
    }
   ],
   "source": [
    "sum_pibo()"
   ]
  },
  {
   "cell_type": "code",
   "execution_count": null,
   "id": "2ddbf356",
   "metadata": {},
   "outputs": [],
   "source": []
  }
 ],
 "metadata": {
  "kernelspec": {
   "display_name": "Python 3",
   "language": "python",
   "name": "python3"
  },
  "language_info": {
   "codemirror_mode": {
    "name": "ipython",
    "version": 3
   },
   "file_extension": ".py",
   "mimetype": "text/x-python",
   "name": "python",
   "nbconvert_exporter": "python",
   "pygments_lexer": "ipython3",
   "version": "3.8.8"
  }
 },
 "nbformat": 4,
 "nbformat_minor": 5
}
